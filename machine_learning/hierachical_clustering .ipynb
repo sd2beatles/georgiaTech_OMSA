{
 "cells": [
  {
   "cell_type": "markdown",
   "metadata": {},
   "source": [
    "#  Introduction \n",
    "\n",
    "\n",
    "Hierarchical Clustering refers to a method of reducing the number of clusters by selecting two nodes and combining them into one.  This is commonly named agglomerative clustering. Initially, all clusters start with a single node but the only one cluster remains after several iterations of merging processes. \n",
    "\n",
    "The major part of implementing this algorithm is to decide the method for measuring distances between two clusters. There are two methods of measuring the distance between clusters; a non-hierarchical method that does not depend on the hierarchical method and a hierarchical method that assumes that the clusters have already been combined hierarchically in the previous step.  \n",
    "\n",
    "In our codes, we will show how the non-hierarchial distance measurement is used.\n"
   ]
  },
  {
   "cell_type": "code",
   "execution_count": 55,
   "metadata": {},
   "outputs": [
    {
     "name": "stderr",
     "output_type": "stream",
     "text": [
      "C:\\Users\\sd4be\\Anaconda3\\lib\\site-packages\\ipykernel_launcher.py:94: UserWarning: Matplotlib is currently using module://ipykernel.pylab.backend_inline, which is a non-GUI backend, so cannot show the figure.\n",
      "C:\\Users\\sd4be\\Anaconda3\\lib\\site-packages\\ipykernel_launcher.py:109: UserWarning: Matplotlib is currently using module://ipykernel.pylab.backend_inline, which is a non-GUI backend, so cannot show the figure.\n",
      "C:\\Users\\sd4be\\Anaconda3\\lib\\site-packages\\ipykernel_launcher.py:121: UserWarning: Matplotlib is currently using module://ipykernel.pylab.backend_inline, which is a non-GUI backend, so cannot show the figure.\n"
     ]
    },
    {
     "data": {
      "image/png": "[encoded data removed]",
      "text/plain": [
       "<Figure size 432x288 with 1 Axes>"
      ]
     },
     "metadata": {
      "needs_background": "light"
     },
     "output_type": "display_data"
    },
    {
     "data": {
      "image/png": "[encoded data removed]",
      "text/plain": [
       "<Figure size 432x288 with 1 Axes>"
      ]
     },
     "metadata": {
      "needs_background": "light"
     },
     "output_type": "display_data"
    },
    {
     "data": {
      "image/png": "[encoded data removed]",
      "text/plain": [
       "<Figure size 432x288 with 1 Axes>"
      ]
     },
     "metadata": {
      "needs_background": "light"
     },
     "output_type": "display_data"
    }
   ],
   "source": [
    "import pandas as pd\n",
    "import numpy as np\n",
    "import random\n",
    "import matplotlib.pyplot as plt\n",
    "\n",
    "from sklearn.datasets.samples_generator import make_blobs\n",
    "\n",
    "\n",
    "#vec is the numpy array which contains the vector of the given node\n",
    "#left and right must be the class type of cluster node\n",
    "#id shows the index of the node and for the merged node which does not belong to the original set has negative id\n",
    "\n",
    "class cluster_node:\n",
    "    def __init__(self,vec,id,left=None,right=None,distance=0.0,node_vector=None):\n",
    "        self.left_node=left\n",
    "        self.right_node=right\n",
    "        self.vec=vec\n",
    "        self.id=id\n",
    "        self.distance=distance\n",
    "        if node_vector is None:\n",
    "            self.node_vector=[self.id]\n",
    "        else:\n",
    "            self.node_vector=node_vector[:]\n",
    "def euclidean_distance(vec1,vec2):\n",
    "    return np.sqrt(np.sum((vec1-vec2)**2))\n",
    "\n",
    "def min_distance(clust1,clust2,distances):\n",
    "    #distances is a dictionary contains the pairs of id and the distance between nodes\n",
    "    #initialize the distance as the large amount\n",
    "    d=np.inf\n",
    "    for i in clust1.node_vector:\n",
    "        for j in clust2.node_vector:\n",
    "            if (i,j) in distances:\n",
    "                distance=distances[(i,j)]\n",
    "            elif (j,i) in distances:\n",
    "                distance=distances[(j,i)]\n",
    "            else:\n",
    "                distance=euclidean_distance(clust1.vec,clust2.vec)\n",
    "            #During the iteration,d wil be updated if the lower value keeps appearing\n",
    "            #At the end of the loop,d will be the smallest distance in any combinations\n",
    "            if distance<d:\n",
    "                d=distance\n",
    "    return d\n",
    "\n",
    "k=3\n",
    "def agglomerative_clustering(data,distance):\n",
    "    distances={}\n",
    "    currentclustid=-1\n",
    "    \n",
    "    #individual nodes are created in a single row. The number of rows are exactly the same as the number\n",
    "    #of instances of the data\n",
    "    nodes=[cluster_node(np.array(data[i]),id=i) for i in range(data.shape[0])]\n",
    "    \n",
    "    while len(nodes)>k:\n",
    "        #start with 0 and 1\n",
    "        lowestpair=(0,1)\n",
    "        closest=euclidean_distance(nodes[0].vec,nodes[1].vec)\n",
    "        for i in range(len(nodes)):\n",
    "            for j in range(i+1,len(nodes)):\n",
    "                if (nodes[i].id,nodes[j].id) not in distances:\n",
    "                    if distance=='min':\n",
    "                        distances[(nodes[i].id,nodes[j].id)]=min_distance(nodes[i],nodes[j],distances)\n",
    "                    else:\n",
    "                        distances[(nodes[i].id,nodes[j].id)]=euclidean_distance(nodes[i].vec,nodes[j].vec)\n",
    "                d=distances[(nodes[i].id,nodes[j].id)]\n",
    "                \n",
    "                if d<closest:\n",
    "                    closest=d\n",
    "                    lowestpair=(i,j)\n",
    "        \n",
    "        #now,we want to create a new node that contains the left and rigt nodes \n",
    "        #Before its creation,we need to compute the vector of the newly created node.\n",
    "        #It can be computed based on the wieght avaverage of each dimension of left and right node. \n",
    "        len_left=len(nodes[lowestpair[0]].node_vector)\n",
    "        len_right=len(nodes[lowestpair[1]].node_vector)\n",
    "        mean_vector=[(len_left*nodes[lowestpair[0]].vec[i]+len_right*nodes[lowestpair[1]].vec[i])/(len_right+len_left)\\\n",
    "                     for i  in range(data.shape[1])]\n",
    "        #Ready to create the new node\n",
    "        new_node=cluster_node(np.array(mean_vector),currentclustid,left=nodes[lowestpair[0]],right=nodes[lowestpair[1]],\\\n",
    "                              distance=closest,node_vector=nodes[lowestpair[0]].node_vector+nodes[lowestpair[1]].node_vector)\n",
    "        \n",
    "        #Remember ids that are not in the original set are negative\n",
    "        currentclustid-=1\n",
    "        del nodes[lowestpair[1]]\n",
    "        del nodes[lowestpair[0]]\n",
    "        nodes.append(new_node)\n",
    "    \n",
    "    return nodes\n",
    "\n",
    "\n",
    "\n",
    "def main():\n",
    "\t# Generate data\n",
    "\t# df = pd.read_csv('./segmentation.data.modified')\n",
    "\tcenters = [[1, 1], [-1, -1], [1, -1]]\n",
    "\tX, _ = make_blobs(n_samples = 90, centers = centers, cluster_std = 0.5)\n",
    "\tdf = pd.DataFrame(X) ## convert to DF\n",
    "\n",
    "\t# Visualize the data\n",
    "\tf = plt.figure(1)\n",
    "\tplt.scatter(df[0],df[1])\n",
    "\tf.show()\n",
    "\tcolorset = ['red', 'green', 'blue', 'yellow', 'brown', 'orange', 'black']\n",
    "\n",
    "\tdata = np.array(df)\n",
    "\n",
    "\t# Average criterion agglomerative clustering\n",
    "\tcluster = agglomerative_clustering(data, \"avg\")\n",
    "\t# plt.scatter(cluster.leftnode.vec[0], cluster.leftnode.vec[1], color = 'yellow')\n",
    "\t# plt.scatter(cluster.rightnode.leftnode.vec[0], cluster.rightnode.leftnode.vec[1], color = 'red')\n",
    "\t# plt.scatter(cluster.rightnode.rightnode.vec[0], cluster.rightnode.rightnode.vec[1], color = 'green')\n",
    "\tj = 0\n",
    "\tm = plt.figure(2)\n",
    "\tfor i in cluster:\n",
    "\t\tplt.scatter(data[i.node_vector].T[0], data[i.node_vector].T[1], color = colorset[j])\n",
    "\t\tj += 1\n",
    "\tm.show()\n",
    "\n",
    "\t# Min criterion agglomerative clustering\n",
    "\tg = plt.figure(3)\n",
    "\tcluster = agglomerative_clustering(data, \"min\")\n",
    "\t# plt.scatter(cluster.leftnode.vec[0], cluster.leftnode.vec[1], color = 'yellow')\n",
    "\t# plt.scatter(cluster.rightnode.leftnode.vec[0], cluster.rightnode.leftnode.vec[1], color = 'red')\n",
    "\t# plt.scatter(cluster.rightnode.rightnode.vec[0], cluster.rightnode.rightnode.vec[1], color = 'green')\n",
    "\tj = 0\n",
    "\tfor i in cluster:\n",
    "\t\tplt.scatter(data[i.node_vector].T[0], data[i.node_vector].T[1], color = colorset[j])\n",
    "\t\tj += 1\n",
    "\tg.show()\n",
    "\n",
    "\n",
    "if __name__ == '__main__':\n",
    "\tmain()\n",
    "        \n",
    "        \n",
    "        \n",
    "                        \n",
    "                    \n",
    "                \n",
    "        \n",
    "    \n",
    "    \n",
    "    "
   ]
  }
 ],
 "metadata": {
  "kernelspec": {
   "display_name": "Python 3",
   "language": "python",
   "name": "python3"
  },
  "language_info": {
   "codemirror_mode": {
    "name": "ipython",
    "version": 3
   },
   "file_extension": ".py",
   "mimetype": "text/x-python",
   "name": "python",
   "nbconvert_exporter": "python",
   "pygments_lexer": "ipython3",
   "version": "3.7.6"
  }
 },
 "nbformat": 4,
 "nbformat_minor": 4
}
