{
 "cells": [
  {
   "cell_type": "code",
   "execution_count": 2,
   "metadata": {},
   "outputs": [],
   "source": [
    "import os \n",
    "import numpy as np\n",
    "import copy\n",
    "from six.moves import urllib\n",
    "from sklearn.datasets import load_iris\n",
    "import matplotlib.pyplot as plt"
   ]
  },
  {
   "cell_type": "code",
   "execution_count": 3,
   "metadata": {},
   "outputs": [],
   "source": [
    "import sys\n",
    "class kmeans:\n",
    "    def __init__(self,k,data):\n",
    "        self.nData=np.shape(data)[0]\n",
    "        self.nDim=np.shape(data)[1]\n",
    "        self.k=k\n",
    "        self.data=data\n",
    "    def kemeanstrain(self,maxIteration=10):\n",
    "        #find the minium and maxium values for each feature\n",
    "        minima=self.data.min(axis=0)\n",
    "        maxima=self.data.max(axis=0)\n",
    "        \n",
    "        #pict the center locations randomly \n",
    "        #For obtaining the randomchoice,I have implemented two different ways of acquireing the centers \n",
    "        #It should be fine if you deicide to choose one of them. \n",
    "        random_index=np.random.choice(self.nData,self.k)\n",
    "        self.centers=self.data[random_index]\n",
    "        oldCenters=np.random.rand(self.k,self.nDim)*(maxima-minima)+minima\n",
    "        assert self.centers.shape==oldCenters.shape\n",
    "        \n",
    "        count=0\n",
    "        while np.sum(self.centers-oldCenters)!=0 and count<maxIteration:\n",
    "            oldCenters=self.centers.copy()\n",
    "            count+=1\n",
    "            \n",
    "            #compute eclidean distance\n",
    "            distances=np.ones((1,self.nData))*np.sum((self.data-self.centers[0,:]),axis=1)\n",
    "            for j in range(1,self.k):\n",
    "                euclidean=np.ones((1,self.nData))*np.sum((self.data-self.centers[j,:])**2,axis=1)\n",
    "                distances=np.append(distances,euclidean,axis=0)\n",
    "            #Now the shape of distances is (self.k X self.nData). Then, we should select the cloest cluster for each instance \n",
    "            cluster=distances.argmin(axis=0)\n",
    "            #our cluster is now transposed into the shape (self.nData X 1)\n",
    "            cluster = np.transpose(cluster*np.ones((1,self.nData)))\n",
    "            \n",
    "            #update the cluster centers\n",
    "            for j in range(self.k):\n",
    "                thisCluster=np.where(cluster==j,1,0)\n",
    "                #the number of instances beloning to each centeroid is gerater than zero\n",
    "                if sum(thisCluster)>0:\n",
    "                    self.centers[j,:]=np.sum(self.data*thisCluster,axis=0)/np.sum(thisCluster)\n",
    "        return self.centers,cluster\n",
    "    \n",
    "\n",
    "        \n",
    "                    "
   ]
  },
  {
   "cell_type": "code",
   "execution_count": 4,
   "metadata": {},
   "outputs": [],
   "source": [
    "data=load_iris()\n",
    "data=data['data']"
   ]
  },
  {
   "cell_type": "code",
   "execution_count": 8,
   "metadata": {},
   "outputs": [
    {
     "data": {
      "text/plain": [
       "<matplotlib.collections.PathCollection at 0x2df04c0d048>"
      ]
     },
     "execution_count": 8,
     "metadata": {},
     "output_type": "execute_result"
    },
    {
     "data": {
      "image/png": "[encoded data removed]",
      "text/plain": [
       "<Figure size 432x288 with 1 Axes>"
      ]
     },
     "metadata": {
      "needs_background": "light"
     },
     "output_type": "display_data"
    }
   ],
   "source": [
    "centers,cluster=kmeans(3,data).kemeanstrain()\n",
    "colors=['orange','blue','red']\n",
    "for i in range(data.shape[0]):\n",
    "    plt.scatter(data[i,0],data[i,1],color=colors[int(cluster[i])])\n",
    "plt.scatter(centers[:,0], centers[:,1], marker='*', c='g', s=150)"
   ]
  },
  {
   "cell_type": "code",
   "execution_count": 9,
   "metadata": {},
   "outputs": [],
   "source": [
    "down_root='https://raw.githubusercontent.com/ardianumam/Machine-Learning-From-The-Scratch/master/test1_data.txt'\n",
    "test1_path=os.path.join(r'C:\\Users\\sd4be\\Desktop\\data\\test','test1_data.txt')\n",
    "\n",
    "def get_data(url,data_path):\n",
    "    if os.path.isdir(data_path):\n",
    "        os.makdirs(data_path)\n",
    "    urllib.request.urlretrieve(url,data_path)\n",
    "\n",
    "get_data(down_root,test1_path)"
   ]
  },
  {
   "cell_type": "code",
   "execution_count": 10,
   "metadata": {},
   "outputs": [
    {
     "name": "stdout",
     "output_type": "stream",
     "text": [
      "[[ 2.1509  1.764 ]\n",
      " [ 8.478   0.083 ]\n",
      " [ 3.7587  0.1222]\n",
      " [ 3.3403  1.0473]\n",
      " [-0.8747  3.0516]\n",
      " [ 2.3664 -2.3542]\n",
      " [ 2.3951  2.4884]\n",
      " [ 8.809  -1.8172]\n",
      " [-0.3051 -3.9237]\n",
      " [ 6.0899  3.9702]]\n"
     ]
    }
   ],
   "source": [
    "train_data=np.loadtxt(test1_path,delimiter=' ')\n",
    "#print the first 10 rows of train_data\n",
    "print(train_data[:10])"
   ]
  },
  {
   "cell_type": "code",
   "execution_count": 11,
   "metadata": {},
   "outputs": [],
   "source": [
    "centers,cluster=kmeans(2,train_data).kemeanstrain()\n"
   ]
  },
  {
   "cell_type": "code",
   "execution_count": 12,
   "metadata": {},
   "outputs": [
    {
     "data": {
      "text/plain": [
       "<matplotlib.collections.PathCollection at 0x2df0617ee48>"
      ]
     },
     "execution_count": 12,
     "metadata": {},
     "output_type": "execute_result"
    },
    {
     "data": {
      "image/png": "[encoded data removed]",
      "text/plain": [
       "<Figure size 432x288 with 1 Axes>"
      ]
     },
     "metadata": {
      "needs_background": "light"
     },
     "output_type": "display_data"
    }
   ],
   "source": [
    "colors=['orange','blue','red']\n",
    "for i in range(train_data.shape[0]):\n",
    "    plt.scatter(train_data[i,0],train_data[i,1],color=colors[int(cluster[i])])\n",
    "plt.scatter(centers[:,0], centers[:,1], marker='*', c='g', s=150)"
   ]
  },
  {
   "cell_type": "code",
   "execution_count": null,
   "metadata": {},
   "outputs": [],
   "source": []
  }
 ],
 "metadata": {
  "kernelspec": {
   "display_name": "Python 3",
   "language": "python",
   "name": "python3"
  },
  "language_info": {
   "codemirror_mode": {
    "name": "ipython",
    "version": 3
   },
   "file_extension": ".py",
   "mimetype": "text/x-python",
   "name": "python",
   "nbconvert_exporter": "python",
   "pygments_lexer": "ipython3",
   "version": "3.7.6"
  }
 },
 "nbformat": 4,
 "nbformat_minor": 2
}
